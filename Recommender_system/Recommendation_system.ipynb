{
 "cells": [
  {
   "cell_type": "markdown",
   "metadata": {},
   "source": [
    "Here we run a collaborative filtering algorithm on a dataset of movie ratings. This dataset consists of ratings on a scale of 1 to 5. The dataset has 943 users and 1682 movies. We have used 200 users and 500 movies for training.\n",
    "Details of the dataset and the implemented algorithm and benchmarks can be found in Section 2 of Ex8.pdf. \n"
   ]
  },
  {
   "cell_type": "code",
   "execution_count": 1,
   "metadata": {},
   "outputs": [
    {
     "name": "stdout",
     "output_type": "stream",
     "text": [
      "Cost obtained for the regulation parameter lambda =1.500000 is 31.344056\n"
     ]
    }
   ],
   "source": [
    "import Recommender_system_1"
   ]
  },
  {
   "cell_type": "markdown",
   "metadata": {},
   "source": [
    "Gradient checking has been performed in Recommender_system_gradchk.py. The training has been performed in Recommender_system_2.py. Finally, the trained model has been used to recommend new movies for the first user in the dataset in Recommender_system_predictor.py.\n",
    "\n"
   ]
  },
  {
   "cell_type": "code",
   "execution_count": 2,
   "metadata": {},
   "outputs": [
    {
     "name": "stdout",
     "output_type": "stream",
     "text": [
      "The top recommendations for the first user, for movies not rated by him/her in the original dataset are\n",
      "273 Heat (1995)\n",
      "\n",
      "276 Leaving Las Vegas (1995)\n",
      "\n",
      "290 Fierce Creatures (1997)\n",
      "\n",
      "317 In the Name of the Father (1993)\n",
      "\n",
      "327 Cop Land (1997)\n",
      "\n",
      "346 Jackie Brown (1997)\n",
      "\n",
      "475 Trainspotting (1996)\n",
      "\n",
      "482 Some Like It Hot (1959)\n",
      "\n"
     ]
    }
   ],
   "source": [
    "import Recommender_system_predictor"
   ]
  },
  {
   "cell_type": "code",
   "execution_count": null,
   "metadata": {},
   "outputs": [],
   "source": []
  }
 ],
 "metadata": {
  "kernelspec": {
   "display_name": "Python 3",
   "language": "python",
   "name": "python3"
  },
  "language_info": {
   "codemirror_mode": {
    "name": "ipython",
    "version": 3
   },
   "file_extension": ".py",
   "mimetype": "text/x-python",
   "name": "python",
   "nbconvert_exporter": "python",
   "pygments_lexer": "ipython3",
   "version": "3.8.5"
  }
 },
 "nbformat": 4,
 "nbformat_minor": 4
}
